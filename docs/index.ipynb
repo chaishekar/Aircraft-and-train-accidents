{
 "cells": [
  {
   "cell_type": "raw",
   "metadata": {},
   "source": [
    "---\n",
    "title : \"Air crash and Train Accident Analysis.\"\n",
    "date : today\n",
    "format:\n",
    "    html:\n",
    "        toc: true\n",
    "        toc-location : left\n",
    "        theme: cosmo\n",
    "        embed-resources: true\n",
    "        self-contained: true\n",
    "        code-fold : true\n",
    "        page-layout : full\n",
    "execute:\n",
    "  echo: true\n",
    "---"
   ]
  },
  {
   "attachments": {},
   "cell_type": "markdown",
   "metadata": {},
   "source": [
    "One cloudy day, hundreds of passengers were waiting at the airport for their delayed flight. When the weather finally cleared, the crowd was relieved to board their plane. Some were in a hurry to make it to their business meetings, while others were excited to see their families. Meanwhile, thousands boarded a train to travel to their homes, favorite vacation spots, or to visit friends and family. However, no one had any idea that they would end up somewhere very different from where they intended.\n",
    "\n",
    "Unfortunately, the airplane crashed mid-air, while the train ran off the tracks, resulting in thousands of deaths. The aftermath of these accidents was devastating. The families of the victims were left with a lifetime of grief and sorrow, while the passengers who survived were left with trauma.\n",
    "\n",
    "A group of analysts gathered information on the deaths, damages, year, location, and weight of the trains involved in these accidents. The objective of this analysis is to determine the impact of these accidents in terms of the number of fatalities and damages, as well as how often these accidents occur over the years."
   ]
  },
  {
   "attachments": {},
   "cell_type": "markdown",
   "metadata": {},
   "source": [
    "#### HIstogram plots to be placed"
   ]
  },
  {
   "attachments": {},
   "cell_type": "markdown",
   "metadata": {},
   "source": [
    "Here is the time series line chart for the train dataset, which charts the number of injuries and deaths of railroad crashes dating from 1975 to 2022. The number of injured people greatly outweighs the number of deaths from railroad crashes. High counts of injuries are more often noted in the earlier years, and there is a notable decrease in injuries in the past few years. Part of that could be explained by the COVID-19 pandemic and its halt on travel."
   ]
  },
  {
   "attachments": {},
   "cell_type": "markdown",
   "metadata": {},
   "source": [
    "Here is the time series line chart for the plane dataset, charting the number of fatalities on the ground and on board the plane over time from 1908 to 2009. The lowest fatalities are seen before the 1940s-1950s, which is to be expected as there was less frequent air travel and with smaller planes. Generally, there are more fatalities onboard than on the ground, with the notable exception of September 11, 2001 when the ground fatalities reached the highest numbers in American history. "
   ]
  },
  {
   "attachments": {},
   "cell_type": "markdown",
   "metadata": {},
   "source": [
    "This word cloud depicts the cities most affected by airline crashes. The magnitude of each city's name corresponds to the number of crashes in that area. We can see from the word cloud that cities like New York, Chicago, Kansas City have experienced a significant frequency of airline crashes. These accidents have clearly had a huge impact on these cities, resulting in severe loss of life and physical damage. It is critical to continue to strengthen aviation safety procedures and regulations in order to avoid such tragedies in the future."
   ]
  },
  {
   "attachments": {},
   "cell_type": "markdown",
   "metadata": {},
   "source": [
    "Similarly, this wordcloud depicts the cities most affected by railroad crashes. The magnitude of each city's name corresponds to the number of crashes in that area. We can see from the word cloud that cities like Texas, Illinois, and Chicago have experienced a significant frequency of railroad crashes. These accidents have clearly had a huge impact on these cities, resulting in severe loss of life and physical damage. It is critical to continue to strengthen railroad safety procedures and regulations in order to avoid such tragedies in the future."
   ]
  },
  {
   "attachments": {},
   "cell_type": "markdown",
   "metadata": {},
   "source": [
    "The folium map shows instances of plane crashes in the U.S. from 1908 to 2009. There appears to be a high number of crashes by the coast, namely New York, Massachusetts, Philadelphia, and California. Oklahoma, North Dakota, and Iowa have the least number of crashes."
   ]
  },
  {
   "attachments": {},
   "cell_type": "markdown",
   "metadata": {},
   "source": [
    "The folium map shows instances of railroad accidents in the U.S. from 1975 to 2022. There appears to be a concentration of accidents in the east and northeast regions, while other states tend to have a similar number of accidents."
   ]
  },
  {
   "cell_type": "raw",
   "metadata": {},
   "source": []
  },
  {
   "cell_type": "markdown",
   "metadata": {},
   "source": []
  }
 ],
 "metadata": {
  "language_info": {
   "name": "python"
  },
  "orig_nbformat": 4
 },
 "nbformat": 4,
 "nbformat_minor": 2
}
